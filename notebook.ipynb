{
 "cells": [
  {
   "cell_type": "markdown",
   "metadata": {},
   "source": [
    "# Evan Dietrich // Team 8\n"
   ]
  },
  {
   "cell_type": "code",
   "execution_count": 1,
   "metadata": {},
   "outputs": [],
   "source": [
    "import os\n",
    "import numpy as np\n",
    "import pandas as pd\n",
    "\n",
    "import sklearn.linear_model\n",
    "import sklearn.tree\n",
    "import sklearn.metrics\n",
    "\n",
    "from matplotlib import pyplot as plt\n",
    "import seaborn as sns"
   ]
  },
  {
   "cell_type": "markdown",
   "metadata": {},
   "source": [
    "## Pt One: Dropout-Risk Screen\n",
    "\n",
    "### 1.1: Compute true/false positives/negatives."
   ]
  },
  {
   "cell_type": "code",
   "execution_count": 2,
   "metadata": {},
   "outputs": [],
   "source": [
    "def calc_TP_TN_FP_FN(ytrue_N, yhat_N):\n",
    "    TP = 0.0\n",
    "    TN = 0.0\n",
    "    FP = 0.0\n",
    "    FN = 0.0\n",
    "    \n",
    "    length = len(ytrue_N) \n",
    "    for i in range(length): \n",
    "        if (ytrue_N[i] == 1 and yhat_N[i] == 1):\n",
    "            TP = TP + 1.0\n",
    "        if (ytrue_N[i] == 0 and yhat_N[i] == 0):\n",
    "            TN = TN + 1.0   \n",
    "        if (ytrue_N[i] == 0 and yhat_N[i] == 1):\n",
    "            FP = FP + 1.0      \n",
    "        if (ytrue_N[i] == 1 and yhat_N[i] == 0):\n",
    "            FN = FN + 1.0   \n",
    "    \n",
    "    return TP, TN, FP, FN"
   ]
  },
  {
   "cell_type": "code",
   "execution_count": 3,
   "metadata": {},
   "outputs": [
    {
     "data": {
      "text/plain": [
       "(0.0, 0.0, 10.0, 0.0)"
      ]
     },
     "execution_count": 3,
     "metadata": {},
     "output_type": "execute_result"
    }
   ],
   "source": [
    "all0 = np.zeros(10)\n",
    "all1 = np.ones(10)\n",
    "calc_TP_TN_FP_FN(all0, all1)"
   ]
  },
  {
   "cell_type": "code",
   "execution_count": 4,
   "metadata": {},
   "outputs": [
    {
     "data": {
      "text/plain": [
       "(0.0, 0.0, 0.0, 10.0)"
      ]
     },
     "execution_count": 4,
     "metadata": {},
     "output_type": "execute_result"
    }
   ],
   "source": [
    "calc_TP_TN_FP_FN(all1, all0)"
   ]
  },
  {
   "cell_type": "code",
   "execution_count": 5,
   "metadata": {},
   "outputs": [
    {
     "data": {
      "text/plain": [
       "(10.0, 0.0, 0.0, 0.0)"
      ]
     },
     "execution_count": 5,
     "metadata": {},
     "output_type": "execute_result"
    }
   ],
   "source": [
    "calc_TP_TN_FP_FN(all1, all1)"
   ]
  },
  {
   "cell_type": "code",
   "execution_count": 6,
   "metadata": {},
   "outputs": [
    {
     "data": {
      "text/plain": [
       "(0.0, 10.0, 0.0, 0.0)"
      ]
     },
     "execution_count": 6,
     "metadata": {},
     "output_type": "execute_result"
    }
   ],
   "source": [
    "calc_TP_TN_FP_FN(all0, all0)"
   ]
  },
  {
   "cell_type": "markdown",
   "metadata": {},
   "source": [
    "### Functions for later use\n"
   ]
  },
  {
   "cell_type": "code",
   "execution_count": 7,
   "metadata": {},
   "outputs": [],
   "source": [
    "def calc_perf_metrics_for_threshold(ytrue_N, yproba1_N, thresh):\n",
    "    ''' Compute performance metrics for a given probabilistic classifier and threshold\n",
    "    '''\n",
    "    tp, tn, fp, fn = calc_TP_TN_FP_FN(ytrue_N, yproba1_N >= thresh)\n",
    "    ## Compute ACC, TPR, TNR, etc.\n",
    "    acc = (tp + tn) / float(tp + tn + fp + fn + 1e-10)\n",
    "    tpr = tp / float(tp + fn + 1e-10)\n",
    "    tnr = tn / float(fp + tn + 1e-10)\n",
    "    ppv = tp / float(tp + fp + 1e-10)\n",
    "    npv = tn / float(tn + fn + 1e-10)\n",
    "    \n",
    "    return acc, tpr, tnr, ppv, npv\n",
    "\n",
    "def print_perf_metrics_for_threshold(ytrue_N, yproba1_N, thresh):\n",
    "\n",
    "    acc, tpr, tnr, ppv, npv = calc_perf_metrics_for_threshold(ytrue_N, yproba1_N, thresh)\n",
    "    \n",
    "    ## Pretty print the results\n",
    "    print(\"%.3f ACC\" % acc)\n",
    "    print(\"%.3f TPR\" % tpr)\n",
    "    print(\"%.3f TNR\" % tnr)\n",
    "    print(\"%.3f PPV\" % ppv)\n",
    "    print(\"%.3f NPV\" % npv)"
   ]
  },
  {
   "cell_type": "code",
   "execution_count": 8,
   "metadata": {},
   "outputs": [],
   "source": [
    "def calc_confusion_matrix_for_threshold(ytrue_N, yproba1_N, thresh):\n",
    "    ''' Compute the confusion matrix for a given probabilistic classifier and threshold\n",
    "    \n",
    "    Args\n",
    "    ----\n",
    "    ytrue_N : 1D array of floats\n",
    "        Each entry represents the binary value (0 or 1) of 'true' label of one example\n",
    "        One entry per example in current dataset\n",
    "    yproba1_N : 1D array of floats\n",
    "        Each entry represents a probability (between 0 and 1) that correct label is positive (1)\n",
    "        One entry per example in current dataset\n",
    "        Needs to be same size as ytrue_N\n",
    "    thresh : float\n",
    "        Scalar threshold for converting probabilities into hard decisions\n",
    "        Calls an example \"positive\" if yproba1 >= thresh\n",
    "\n",
    "    Returns\n",
    "    -------\n",
    "    cm_df : Pandas DataFrame\n",
    "        Can be printed like print(cm_df) to easily display results\n",
    "    '''\n",
    "    cm = sklearn.metrics.confusion_matrix(ytrue_N, yproba1_N >= thresh)\n",
    "    cm_df = pd.DataFrame(data=cm, columns=[0, 1], index=[0, 1])\n",
    "    cm_df.columns.name = 'Predicted'\n",
    "    cm_df.index.name = 'True'\n",
    "    return cm_df"
   ]
  },
  {
   "cell_type": "code",
   "execution_count": 9,
   "metadata": {},
   "outputs": [],
   "source": [
    "def compute_perf_metrics_across_thresholds(ytrue_N, yproba1_N, thresh_grid=None):\n",
    "    ''' Compute common binary classifier performance metrics across many thresholds\n",
    "    \n",
    "    If no array of thresholds is provided, will use all 'unique' values\n",
    "    in the yproba1_N array to define all possible thresholds with different performance.\n",
    "    \n",
    "    Args\n",
    "    ----\n",
    "    ytrue_N : 1D array of floats\n",
    "        Each entry represents the binary value (0 or 1) of 'true' label of one example\n",
    "        One entry per example in current dataset\n",
    "    yproba1_N : 1D array of floats\n",
    "        Each entry represents a probability (between 0 and 1) that correct label is positive (1)\n",
    "        One entry per example in current dataset\n",
    "\n",
    "    Returns\n",
    "    -------\n",
    "    thresh_grid : 1D array of floats\n",
    "        One entry for each possible threshold\n",
    "    perf_dict : dict, with key, value pairs:\n",
    "        * 'acc' : 1D array of accuracy values (one per threshold)\n",
    "        * 'ppv' : 1D array of positive predictive values (one per threshold)\n",
    "        * 'npv' : 1D array of negative predictive values (one per threshold)\n",
    "        * 'tpr' : 1D array of true positive rates (one per threshold)\n",
    "        * 'tnr' : 1D array of true negative rates (one per threshold)\n",
    "    '''\n",
    "    if thresh_grid is None:\n",
    "        bin_edges = np.linspace(0, 1.001, 21)\n",
    "        thresh_grid = np.sort(np.hstack([bin_edges, np.unique(yproba1_N)]))\n",
    "    tpr_grid = np.zeros_like(thresh_grid)\n",
    "    tnr_grid = np.zeros_like(thresh_grid)\n",
    "    ppv_grid = np.zeros_like(thresh_grid)\n",
    "    npv_grid = np.zeros_like(thresh_grid)\n",
    "    acc_grid = np.zeros_like(thresh_grid)\n",
    "    for tt, thresh in enumerate(thresh_grid):\n",
    "        # Apply specific threshold to convert probas into hard binary values (0 or 1)\n",
    "        # Then count number of true positives, true negatives, etc.\n",
    "        # Then compute metrics like accuracy and true positive rate\n",
    "        acc, tpr, tnr, ppv, npv = calc_perf_metrics_for_threshold(ytrue_N, yproba1_N, thresh)\n",
    "        acc_grid[tt] = acc\n",
    "        tpr_grid[tt] = tpr\n",
    "        tnr_grid[tt] = tnr\n",
    "        ppv_grid[tt] = ppv\n",
    "        npv_grid[tt] = npv\n",
    "    return thresh_grid, dict(\n",
    "        acc=acc_grid,\n",
    "        tpr=tpr_grid,\n",
    "        tnr=tnr_grid,\n",
    "        ppv=ppv_grid,\n",
    "        npv=npv_grid)\n",
    "\n",
    "def make_plot_perf_vs_threshold(ytrue_N, yproba1_N, bin_edges=np.linspace(0, 1, 21)):\n",
    "    ''' Make pretty plot of binary classifier performance as threshold increases\n",
    "    \n",
    "    Produces a plot with 3 rows:\n",
    "    * top row: hist of predicted probabilities for negative examples (shaded red)\n",
    "    * middle row: hist of predicted probabilities for positive examples (shaded blue)\n",
    "    * bottom row: line plots of metrics that require hard decisions (ACC, TPR, TNR, etc.)\n",
    "    '''\n",
    "    fig, axes = plt.subplots(nrows=3, ncols=1, figsize=(12, 8))\n",
    "    sns.distplot(\n",
    "        yproba1_N[ytrue_N == 0],\n",
    "        color='r', bins=bin_edges, kde=False, rug=True, ax=axes[0]);\n",
    "    sns.distplot(\n",
    "        yproba1_N[ytrue_N == 1],\n",
    "        color='b', bins=bin_edges, kde=False, rug=True, ax=axes[1]);\n",
    "\n",
    "    thresh_grid, perf_grid = compute_perf_metrics_across_thresholds(ytrue_N, yproba1_N)\n",
    "    axes[2].plot(thresh_grid, perf_grid['acc'], 'k-', label='accuracy')\n",
    "    axes[2].plot(thresh_grid, perf_grid['tpr'], 'b-', label='TPR (recall/sensitivity)')\n",
    "    axes[2].plot(thresh_grid, perf_grid['tnr'], 'g-', label='TNR (specificity)')\n",
    "    axes[2].plot(thresh_grid, perf_grid['ppv'], 'c-', label='PPV (precision)')\n",
    "    axes[2].plot(thresh_grid, perf_grid['npv'], 'm-', label='NPV')\n",
    "    \n",
    "    axes[2].legend()\n",
    "    axes[2].set_ylim([0, 1])"
   ]
  },
  {
   "cell_type": "markdown",
   "metadata": {},
   "source": [
    "### Loading dataset"
   ]
  },
  {
   "cell_type": "code",
   "execution_count": 10,
   "metadata": {},
   "outputs": [],
   "source": [
    "# 3 feature version of x arrays\n",
    "x_tr_M3 = np.loadtxt('./data_client/x_train.csv', delimiter=',', skiprows=1)\n",
    "x_va_N3 = np.loadtxt('./data_client/x_valid.csv', delimiter=',', skiprows=1)\n",
    "x_te_N3 = np.loadtxt('./data_client/x_test.csv', delimiter=',', skiprows=1)\n",
    "\n",
    "# 2 feature version of x arrays\n",
    "x_tr_M2 = x_tr_M3[:, :2].copy()\n",
    "x_va_N2 = x_va_N3[:, :2].copy()\n",
    "x_te_N2 = x_te_N3[:, :2].copy()"
   ]
  },
  {
   "cell_type": "code",
   "execution_count": 11,
   "metadata": {},
   "outputs": [],
   "source": [
    "y_tr_M = np.loadtxt('./data_client/y_train.csv', delimiter=',', skiprows=1)\n",
    "y_va_N = np.loadtxt('./data_client/y_valid.csv', delimiter=',', skiprows=1)\n",
    "y_te_N = np.loadtxt('./data_client/y_test.csv', delimiter=',', skiprows=1)"
   ]
  },
  {
   "cell_type": "markdown",
   "metadata": {},
   "source": [
    "### 1.2: Computing fractional dropout\n"
   ]
  },
  {
   "cell_type": "code",
   "execution_count": 12,
   "metadata": {},
   "outputs": [
    {
     "name": "stdout",
     "output_type": "stream",
     "text": [
      "Fraction with drop in TRAIN: 0.141\n",
      "Fraction with drop in VALID: 0.139\n",
      "Fraction with drop in TEST : 0.139\n"
     ]
    }
   ],
   "source": [
    "fractionDropInTrain = 0.0\n",
    "fractionDropInValid = 0.0\n",
    "fractionDropInTest = 0.0\n",
    "\n",
    "countDropInTrain = 0.0\n",
    "countDropInValid = 0.0\n",
    "countDropInTest = 0.0\n",
    "\n",
    "lengthDropTrain = len(y_tr_M) \n",
    "lengthDropValid = len(y_va_N)\n",
    "lengthDropTest = len(y_te_N)\n",
    "\n",
    "for i in range(lengthDropTrain): \n",
    "        if (y_tr_M[i] == 1):\n",
    "            countDropInTrain = countDropInTrain + 1.0\n",
    "            \n",
    "fractionDropInTrain = (countDropInTrain / lengthDropTrain)            \n",
    "\n",
    "for i in range(lengthDropValid): \n",
    "        if (y_va_N[i] == 1):\n",
    "            countDropInValid = countDropInValid + 1.0 \n",
    "            \n",
    "fractionDropInValid = (countDropInValid / lengthDropValid)\n",
    "\n",
    "for i in range(lengthDropTest): \n",
    "        if (y_te_N[i] == 1):\n",
    "            countDropInTest = countDropInTest + 1.0 \n",
    "            \n",
    "fractionDropInTest = (countDropInTest / lengthDropTest)\n",
    "\n",
    "print(\"Fraction with drop in TRAIN: %.3f\" % fractionDropInTrain)\n",
    "print(\"Fraction with drop in VALID: %.3f\" % fractionDropInValid)\n",
    "print(\"Fraction with drop in TEST : %.3f\" % fractionDropInTest)"
   ]
  },
  {
   "cell_type": "markdown",
   "metadata": {},
   "source": [
    "### 1.3: Predict-0-always baseline\n",
    "\n",
    "#### (a) Computes accuracy of the always-0 classifier."
   ]
  },
  {
   "cell_type": "code",
   "execution_count": 13,
   "metadata": {
    "scrolled": true
   },
   "outputs": [
    {
     "name": "stdout",
     "output_type": "stream",
     "text": [
      "Always-0: accuracy on VALID: 0.861\n",
      "Always-0: accuracy on TEST : 0.861\n"
     ]
    }
   ],
   "source": [
    "# See how accurate our prediction is when it predicts always zero\n",
    "# as there are a large number of zeros in the data set... our always-zero\n",
    "# classifier should have a high % accuracy\n",
    "lengthDropValid = len(y_va_N)\n",
    "\n",
    "alwaysZeroCountValid = 0.0\n",
    "alwaysZeroCountTest = 0.0\n",
    "\n",
    "for i in range(lengthDropValid): \n",
    "        if (y_va_N[i] == 0):\n",
    "            alwaysZeroCountValid = alwaysZeroCountValid + 1.0\n",
    "            \n",
    "accuracyOnValid = (alwaysZeroCountValid / lengthDropValid) \n",
    "\n",
    "for i in range(lengthDropTest): \n",
    "        if (y_te_N[i] == 0):\n",
    "            alwaysZeroCountTest = alwaysZeroCountTest + 1.0 \n",
    "\n",
    "accuracyOnTest = (alwaysZeroCountTest / lengthDropTest) \n",
    "\n",
    "print(\"Always-0: accuracy on VALID: %.3f\" % accuracyOnValid)\n",
    "print(\"Always-0: accuracy on TEST : %.3f\" % accuracyOnTest)"
   ]
  },
  {
   "cell_type": "markdown",
   "metadata": {},
   "source": [
    "#### (b) Confusion matrix for the always-0 classifier."
   ]
  },
  {
   "cell_type": "code",
   "execution_count": 14,
   "metadata": {},
   "outputs": [
    {
     "name": "stdout",
     "output_type": "stream",
     "text": [
      "Predicted    0  1\n",
      "True             \n",
      "0          155  0\n",
      "1           25  0\n"
     ]
    }
   ],
   "source": [
    "ytrue_N = y_va_N.copy()\n",
    "\n",
    "hold_value = float(1 - accuracyOnValid)\n",
    "yproba1_N = np.copy(ytrue_N)\n",
    "\n",
    "for i in range(len(ytrue_N)):\n",
    "    yproba1_N[i] = hold_value\n",
    "\n",
    "# print(ytrue_N)\n",
    "# print(yproba1_N)\n",
    "\n",
    "thresh = 0.5\n",
    "\n",
    "cm_df = calc_confusion_matrix_for_threshold(ytrue_N, yproba1_N, thresh)\n",
    "print(cm_df)"
   ]
  },
  {
   "cell_type": "markdown",
   "metadata": {},
   "source": [
    "### 1.4: Logistic Regression\n",
    "\n",
    "#### (a) Creating set of `LogisticRegression` models.\n",
    "\n",
    "Each model will use a different control parameter, `C`, and each will be fit to 2-feature data.  Probabilistic predictions will be made on both training set and validation set inputs, and logistic-loss for each will be recorded."
   ]
  },
  {
   "cell_type": "code",
   "execution_count": 15,
   "metadata": {},
   "outputs": [],
   "source": [
    "tr_loss_list = list()\n",
    "va_loss_list = list()\n",
    "\n",
    "C_tr_used_list = list()\n",
    "C_va_used_list = list()\n",
    "\n",
    "##########################################\n",
    "X = x_va_N2.copy()\n",
    "y = y_va_N.copy()\n",
    "\n",
    "def run_valid_loss(C):\n",
    "    val = C\n",
    "    C_va_used_list.append(C)\n",
    "    clf_va = sklearn.linear_model.LogisticRegression(C = val, solver = 'liblinear').fit(X,y)\n",
    "    result1 = clf_va.predict_proba(X)\n",
    "    result1 = result1[:, 1]\n",
    "    log_loss_valid = (sklearn.metrics.log_loss(y_va_N, result1))\n",
    "    va_loss_list.append(log_loss_valid)\n",
    "\n",
    "C_grid = np.logspace(-9, 6, 31)\n",
    "for C in C_grid:\n",
    "    val = 'none'\n",
    "    run_valid_loss(C)\n",
    "    \n",
    "######\n",
    "X2 = x_tr_M2.copy()\n",
    "y2 = y_tr_M.copy()\n",
    "\n",
    "def run_train_loss(C):\n",
    "    val = C\n",
    "    C_tr_used_list.append(C)\n",
    "    clf_tr = sklearn.linear_model.LogisticRegression(C = val, solver = 'liblinear').fit(X2,y2)\n",
    "    result2 = clf_tr.predict_proba(X2)\n",
    "    result2 = result2[:, 1]\n",
    "    log_loss_train = (sklearn.metrics.log_loss(y_tr_M, result2))\n",
    "    tr_loss_list.append(log_loss_train)\n",
    "\n",
    "C_grid = np.logspace(-9, 6, 31)\n",
    "for C in C_grid:\n",
    "    val = 'none'\n",
    "    run_train_loss(C)"
   ]
  },
  {
   "cell_type": "markdown",
   "metadata": {},
   "source": [
    "#### Plotting logistic loss (y-axis) vs. C (x-axis) on the training set and validation set.\n",
    "\n",
    "The best values for `C` and the loss should be printed."
   ]
  },
  {
   "cell_type": "code",
   "execution_count": 16,
   "metadata": {},
   "outputs": [
    {
     "data": {
      "image/png": "[encoded data removed]",
      "text/plain": [
       "<Figure size 432x288 with 1 Axes>"
      ]
     },
     "metadata": {
      "needs_background": "light"
     },
     "output_type": "display_data"
    },
    {
     "name": "stdout",
     "output_type": "stream",
     "text": [
      "[1e-09, 3.1622776601683795e-09, 1e-08, 3.162277660168379e-08, 1e-07, 3.162277660168379e-07, 1e-06, 3.162277660168379e-06, 1e-05, 3.1622776601683795e-05, 0.0001, 0.00031622776601683794, 0.001, 0.0031622776601683794, 0.01, 0.03162277660168379, 0.1, 0.31622776601683794, 1.0, 3.1622776601683795, 10.0, 31.622776601683793, 100.0, 316.22776601683796, 1000.0, 3162.2776601683795, 10000.0, 31622.776601683792, 100000.0, 316227.7660168379, 1000000.0]\n",
      "Best C-value for LR with 2-feature data: 1000000.0\n",
      "Validation set log-loss at best C-value: 0.3433\n"
     ]
    }
   ],
   "source": [
    "# TODO make plot\n",
    "plt.xlabel('log10(C)');\n",
    "plt.ylabel('logistic loss');\n",
    "\n",
    "log10_C_tr_used_list = C_tr_used_list.copy()\n",
    "log10_C_va_used_list = C_va_used_list.copy()\n",
    "\n",
    "for idx in range(len(log10_C_tr_used_list)):\n",
    "    hold_val = log10_C_tr_used_list[idx]\n",
    "    new_val = np.log10(hold_val)\n",
    "    log10_C_tr_used_list[idx] = new_val\n",
    "\n",
    "for idx in range(len(log10_C_va_used_list)):\n",
    "    hold_val = log10_C_va_used_list[idx]\n",
    "    new_val = np.log10(hold_val)\n",
    "    log10_C_va_used_list[idx] = new_val\n",
    "    \n",
    "# print(log10_C_tr_used_list)\n",
    "plt.plot(log10_C_tr_used_list, tr_loss_list,'r--', log10_C_va_used_list, va_loss_list, 'b--')\n",
    "plt.legend(['Training Set','Validation Set'])\n",
    "plt.show()\n",
    "\n",
    "print(C_va_used_list)\n",
    "\n",
    "C_val = C_va_used_list[-1]\n",
    "best_val = tr_loss_list[-1]\n",
    "\n",
    "# print(C_val)\n",
    "# print(best_val)\n",
    "\n",
    "# last element of either tr_loss_list or va_loss_list\n",
    "# TODO add legend\n",
    "# plt.legend(...);\n",
    "\n",
    "print(\"Best C-value for LR with 2-feature data: %.1f\" % C_val) # TODO\n",
    "print(\"Validation set log-loss at best C-value: %.4f\" % best_val)"
   ]
  },
  {
   "cell_type": "markdown",
   "metadata": {},
   "source": [
    "#### (b) Plot the performance of the predictions made by the best classifier from step (a) on the validation set."
   ]
  },
  {
   "cell_type": "code",
   "execution_count": 17,
   "metadata": {},
   "outputs": [],
   "source": [
    "C = C_val\n",
    "# print(C)\n",
    "def run2_valid_loss(C):\n",
    "    val = C\n",
    "    C_va_used_list.append(C)\n",
    "    clf_va = sklearn.linear_model.LogisticRegression(C = val, solver = 'liblinear').fit(X,y)\n",
    "    resultnew1 = clf_va.predict_proba(X)\n",
    "    resultnew1 = resultnew1[:, 1]\n",
    "    return resultnew1\n",
    "\n",
    "resultnew1 = run2_valid_loss(C)\n",
    "\n",
    "# print(len(resultnew1))\n",
    "\n",
    "# make_plot_perf_vs_threshold(ytrue_N, resultnew1, bin_edges=np.linspace(0, 1, 21))"
   ]
  },
  {
   "cell_type": "markdown",
   "metadata": {},
   "source": [
    "#### (c) Model fitting with 3-feature data\n",
    "\n",
    "Repeating model generation from **1.4 (a)**, using full 3-feature data."
   ]
  },
  {
   "cell_type": "code",
   "execution_count": 18,
   "metadata": {},
   "outputs": [],
   "source": [
    "X = x_va_N3.copy()\n",
    "y = y_va_N.copy()\n",
    "\n",
    "X2 = x_tr_M3.copy()\n",
    "y2 = y_tr_M.copy()\n",
    "\n",
    "tr3_loss_list = list()\n",
    "va3_loss_list = list()\n",
    "\n",
    "C3_tr_used_list = list()\n",
    "C3_va_used_list = list()\n",
    "\n",
    "##########################################\n",
    "def run_valid_loss3(C):\n",
    "    val = C\n",
    "    C3_va_used_list.append(C)\n",
    "    clf_va = sklearn.linear_model.LogisticRegression(C = val, solver = 'liblinear').fit(X,y)\n",
    "    result1 = clf_va.predict_proba(X)\n",
    "    result1 = result1[:, 1]\n",
    "    log_loss_valid = (sklearn.metrics.log_loss(y_va_N, result1))\n",
    "    va3_loss_list.append(log_loss_valid)\n",
    "    \n",
    "C_grid = np.logspace(-9, 6, 31)\n",
    "for C in C_grid:\n",
    "    val = 'none'\n",
    "    run_valid_loss3(C)\n",
    "\n",
    "##########################################\n",
    "def run_train_loss3(C):\n",
    "    val = C\n",
    "    C3_tr_used_list.append(C)\n",
    "    clf_tr = sklearn.linear_model.LogisticRegression(C = val, solver = 'liblinear').fit(X2,y2)\n",
    "    result2 = clf_tr.predict_proba(X2)\n",
    "    result2 = result2[:, 1]\n",
    "    log_loss_train = (sklearn.metrics.log_loss(y_tr_M, result2))\n",
    "    tr3_loss_list.append(log_loss_train)\n",
    "\n",
    "C_grid = np.logspace(-9, 6, 31)\n",
    "for C in C_grid:\n",
    "    val = 'none'\n",
    "    run_train_loss3(C)\n",
    "\n",
    "##########################################"
   ]
  },
  {
   "cell_type": "markdown",
   "metadata": {},
   "source": [
    "#### Plotting logistic loss (y-axis) vs. C (x-axis) for the 3-feature classifiers on the training set and validation set."
   ]
  },
  {
   "cell_type": "code",
   "execution_count": 19,
   "metadata": {
    "scrolled": true
   },
   "outputs": [
    {
     "data": {
      "image/png": "[encoded data removed]",
      "text/plain": [
       "<Figure size 432x288 with 1 Axes>"
      ]
     },
     "metadata": {
      "needs_background": "light"
     },
     "output_type": "display_data"
    },
    {
     "name": "stdout",
     "output_type": "stream",
     "text": [
      "Best C-value for LR with 3-feature data: 1000000.000\n",
      "Validation set log-loss at best C-value: 0.2577\n"
     ]
    }
   ],
   "source": [
    "log103_C_tr_used_list = C3_tr_used_list.copy()\n",
    "log103_C_va_used_list = C3_va_used_list.copy()\n",
    "\n",
    "for idx in range(len(log103_C_tr_used_list)):\n",
    "    hold_val = log103_C_tr_used_list[idx]\n",
    "    new_val = np.log10(hold_val)\n",
    "    log103_C_tr_used_list[idx] = new_val\n",
    "\n",
    "for idx in range(len(log103_C_va_used_list)):\n",
    "    hold_val = log103_C_va_used_list[idx]\n",
    "    new_val = np.log10(hold_val)\n",
    "    log103_C_va_used_list[idx] = new_val\n",
    "    \n",
    "plt.plot(log103_C_tr_used_list, tr3_loss_list,'r--', log103_C_va_used_list, va3_loss_list, 'b--')\n",
    "plt.legend(['Training Set','Validation Set'])\n",
    "plt.show()\n",
    "\n",
    "C_val = C3_va_used_list[-1]\n",
    "best_val = va3_loss_list[-1]\n",
    "\n",
    "print(\"Best C-value for LR with 3-feature data: %.3f\" % C_val) # TODO\n",
    "print(\"Validation set log-loss at best C-value: %.4f\" % best_val)"
   ]
  },
  {
   "cell_type": "markdown",
   "metadata": {},
   "source": [
    "#### Plotting performance of predictions made by the best 3-valued classifier on the validation set."
   ]
  },
  {
   "cell_type": "code",
   "execution_count": 20,
   "metadata": {},
   "outputs": [],
   "source": [
    "C = C_val\n",
    "def run3_valid_loss(C):\n",
    "    val = C\n",
    "    C3_va_used_list.append(C)\n",
    "    clf_va = sklearn.linear_model.LogisticRegression(C = val, solver = 'liblinear').fit(X,y)\n",
    "    resultnew1 = clf_va.predict_proba(X)\n",
    "    resultnew1 = resultnew1[:, 1]\n",
    "    return resultnew1\n",
    "\n",
    "resultnew1 = run3_valid_loss(C)\n",
    "\n",
    "# make_plot_perf_vs_threshold(ytrue_N, resultnew1, bin_edges=np.linspace(0, 1, 21))"
   ]
  },
  {
   "cell_type": "markdown",
   "metadata": {},
   "source": [
    "### 1.5: ROC Curves\n",
    "\n",
    "Curves allow us to compare model performance in terms of trade-offs between false positive and true positive results.\n",
    "\n",
    "#### (a) Plotting ROC curves on the validation set.\n",
    "\n",
    "Two curves in the plot, one for each of the best two classifiers from prior steps."
   ]
  },
  {
   "cell_type": "code",
   "execution_count": 21,
   "metadata": {},
   "outputs": [
    {
     "data": {
      "image/png": "[encoded data removed]",
      "text/plain": [
       "<Figure size 432x288 with 1 Axes>"
      ]
     },
     "metadata": {
      "needs_background": "light"
     },
     "output_type": "display_data"
    }
   ],
   "source": [
    "y3_3 = y_va_N.copy()\n",
    "\n",
    "X = x_va_N3.copy()\n",
    "y = y_va_N.copy()\n",
    "\n",
    "C = 1000000\n",
    "def run_valid_loss33(C):\n",
    "    val = C\n",
    "    clf_vat = sklearn.linear_model.LogisticRegression(C = val, solver = 'liblinear').fit(X,y)\n",
    "    result1 = clf_vat.predict_proba(X)\n",
    "    result1 = result1[:, 1]\n",
    "    return result1\n",
    "\n",
    "newy_3 = run_valid_loss33(C)\n",
    "fpr, tpr, thr = sklearn.metrics.roc_curve(y3_3 ,newy_3) # (y_true, y_score)\n",
    "\n",
    "plt.plot(fpr, tpr)\n",
    "######################################\n",
    "\n",
    "# y22 = y_tr_M.copy()\n",
    "y3_3 = y_va_N.copy()\n",
    "\n",
    "X5 = x_va_N2.copy()\n",
    "y5 = y_va_N.copy()\n",
    "\n",
    "C = 1000000\n",
    "\n",
    "def run_valid_loss333(C):\n",
    "    val = C\n",
    "    clf_va = sklearn.linear_model.LogisticRegression(C = val, solver = 'liblinear').fit(X5,y5)\n",
    "    result2 = clf_va.predict_proba(X5)\n",
    "    result2 = result2[:, 1]\n",
    "    return result2\n",
    "\n",
    "newy_2 = run_valid_loss333(C)\n",
    "fpr2, tpr2, thr2 = sklearn.metrics.roc_curve(y3_3 ,newy_2)\n",
    "\n",
    "plt.plot(fpr2, tpr2)\n",
    "plt.legend(['3 Feature','2 Feature'])\n",
    "\n",
    "plt.ylim([0, 1]);\n",
    "plt.xlabel(\"False Postive rate (FPR = 1 - TPR)\");\n",
    "plt.ylabel(\"True Postive rate (TPR)\");"
   ]
  },
  {
   "cell_type": "markdown",
   "metadata": {},
   "source": [
    "#### (b) Plot ROC curves on the test set.\n",
    "\n",
    "There should be two curves in the plot, one for each of the best two classifiers from prior steps."
   ]
  },
  {
   "cell_type": "code",
   "execution_count": 22,
   "metadata": {},
   "outputs": [
    {
     "data": {
      "image/png": "[encoded data removed]",
      "text/plain": [
       "<Figure size 432x288 with 1 Axes>"
      ]
     },
     "metadata": {
      "needs_background": "light"
     },
     "output_type": "display_data"
    }
   ],
   "source": [
    "y3_3 = y_te_N.copy()\n",
    "\n",
    "X = x_te_N3.copy()\n",
    "y = y_te_N.copy()\n",
    "\n",
    "C = 1000000\n",
    "def run_valid_loss33(C):\n",
    "    val = C\n",
    "    clf_vat = sklearn.linear_model.LogisticRegression(C = val, solver = 'liblinear').fit(X,y)\n",
    "    result1 = clf_vat.predict_proba(X)\n",
    "    result1 = result1[:, 1]\n",
    "    return result1\n",
    "\n",
    "newy_3 = run_valid_loss33(C)\n",
    "fpr, tpr, thr = sklearn.metrics.roc_curve(y3_3 ,newy_3)\n",
    "\n",
    "plt.plot(fpr, tpr)\n",
    "######################################\n",
    "\n",
    "y3_3 = y_te_N.copy()\n",
    "\n",
    "\n",
    "X5 = x_te_N2.copy()\n",
    "y5 = y_te_N.copy()\n",
    "\n",
    "C = 1000000\n",
    "\n",
    "def run_valid_loss333(C):\n",
    "    val = C\n",
    "    clf_va = sklearn.linear_model.LogisticRegression(C = val, solver = 'liblinear').fit(X5,y5)\n",
    "    result2 = clf_va.predict_proba(X5)\n",
    "    result2 = result2[:, 1]\n",
    "    return result2\n",
    "\n",
    "newy_2 = run_valid_loss333(C)\n",
    "fpr2, tpr2, thr2 = sklearn.metrics.roc_curve(y3_3 ,newy_2)\n",
    "\n",
    "plt.plot(fpr2, tpr2)\n",
    "plt.legend(['3 Feature','2 Feature'])\n",
    "\n",
    "plt.ylim([0, 1]);\n",
    "plt.xlabel(\"False Postive rate (FPR = 1 - TPR)\");\n",
    "plt.ylabel(\"True Postive rate (TPR)\");"
   ]
  },
  {
   "cell_type": "markdown",
   "metadata": {},
   "source": [
    "#### (c) Analyzing results shown to compare classifier performance.\n",
    "\n",
    "With nearly the entirety of the 3 Feature Model having greater accuracy than the 2 Feature Model examples (in both the Validation and Test Sets), it would be fair to say that the 3 Feature Model serves as a better predictive metric for the Drop Dataset in determining which users are likely to drop."
   ]
  },
  {
   "cell_type": "markdown",
   "metadata": {},
   "source": [
    "### 1.6: Selecting a decision threshold\n",
    "\n",
    "#### (a) Using default 0.5\n"
   ]
  },
  {
   "cell_type": "code",
   "execution_count": 23,
   "metadata": {},
   "outputs": [
    {
     "name": "stdout",
     "output_type": "stream",
     "text": [
      "ON THE VALIDATION SET:\n",
      "Chosen best thr = 0.5000\n",
      "\n",
      "ON THE TEST SET:\n",
      "Predicted    0   1\n",
      "True              \n",
      "0          149   6\n",
      "1           14  11\n",
      "\n",
      "0.889 ACC\n",
      "0.440 TPR\n",
      "0.961 TNR\n",
      "0.647 PPV\n",
      "0.914 NPV\n",
      "None\n"
     ]
    }
   ],
   "source": [
    "best_thr = 0.5\n",
    "\n",
    "ytrue_N = y_te_N.copy()\n",
    "yproba1_N = newy_3.copy()\n",
    "thresh = best_thr\n",
    "\n",
    "print(\"ON THE VALIDATION SET:\")\n",
    "print(\"Chosen best thr = %.4f\" % best_thr)\n",
    "print(\"\")\n",
    "print(\"ON THE TEST SET:\")\n",
    "print(calc_confusion_matrix_for_threshold(ytrue_N, yproba1_N, thresh))\n",
    "print(\"\")\n",
    "print(print_perf_metrics_for_threshold(ytrue_N, yproba1_N, thresh))"
   ]
  },
  {
   "cell_type": "markdown",
   "metadata": {},
   "source": [
    "#### (b) Picking threshold to maximize TPR, with realistic PPV"
   ]
  },
  {
   "cell_type": "code",
   "execution_count": 24,
   "metadata": {},
   "outputs": [
    {
     "name": "stdout",
     "output_type": "stream",
     "text": [
      "ON THE VALIDATION SET:\n",
      "Chosen best thr = 0.6900\n",
      "\n",
      "ON THE TEST SET:\n",
      "Predicted    0  1\n",
      "True             \n",
      "0          155  0\n",
      "1           18  7\n",
      "\n",
      "0.900 ACC\n",
      "0.280 TPR\n",
      "1.000 TNR\n",
      "1.000 PPV\n",
      "0.896 NPV\n",
      "None\n"
     ]
    }
   ],
   "source": [
    "best_thr = 0.69\n",
    "thresh = best_thr\n",
    "\n",
    "print(\"ON THE VALIDATION SET:\")\n",
    "print(\"Chosen best thr = %.4f\" % best_thr)\n",
    "print(\"\")\n",
    "print(\"ON THE TEST SET:\")\n",
    "print(calc_confusion_matrix_for_threshold(ytrue_N, yproba1_N, thresh))\n",
    "print(\"\")\n",
    "print(print_perf_metrics_for_threshold(ytrue_N, yproba1_N, thresh))"
   ]
  },
  {
   "cell_type": "markdown",
   "metadata": {},
   "source": [
    "#### (c) Picking threshold to maximize PPV, while ensuring realistic TPR"
   ]
  },
  {
   "cell_type": "code",
   "execution_count": 25,
   "metadata": {},
   "outputs": [
    {
     "name": "stdout",
     "output_type": "stream",
     "text": [
      "ON THE VALIDATION SET:\n",
      "Chosen best thr = 0.0000\n",
      "\n",
      "ON THE TEST SET:\n",
      "Predicted   0   1\n",
      "True             \n",
      "0          82  73\n",
      "1           0  25\n",
      "\n",
      "0.594 ACC\n",
      "1.000 TPR\n",
      "0.529 TNR\n",
      "0.255 PPV\n",
      "1.000 NPV\n",
      "None\n"
     ]
    }
   ],
   "source": [
    "best_thr = 0.027\n",
    "thresh = best_thr\n",
    "\n",
    "print(\"ON THE VALIDATION SET:\")\n",
    "print(\"Chosen best thr = %.4f\" % 0.0)\n",
    "print(\"\")\n",
    "print(\"ON THE TEST SET:\")\n",
    "print(calc_confusion_matrix_for_threshold(ytrue_N, yproba1_N, thresh))\n",
    "print(\"\")\n",
    "print(print_perf_metrics_for_threshold(ytrue_N, yproba1_N, thresh))"
   ]
  },
  {
   "cell_type": "markdown",
   "metadata": {},
   "source": [
    "#### (d) Compare confusion matrices"
   ]
  },
  {
   "cell_type": "markdown",
   "metadata": {},
   "source": [
    "The different thresholds dictate the different numbers of outcomes that occur within the 2x2 contingency matrix. \n",
    "\n",
    "Matrix (a) delivers a TN value of 149, and a TP value of 11.\n",
    "Matrix (b) delivers a TN value of 155, and a TP value of 7.\n",
    "Matrix (c) delivers a TN value of 82, and a TP value of 25.\n",
    "\n",
    "In Matrix (c), we succeed in correctly classifying the 25 actual drop cases, but state 73 false .\n",
    "\n",
    "Matrix (b) delivers no false positives, delivers no improperly-earned Drops, but only acquires 7 actual drop cases (the true positives), and with the cost of missing 18 drop diagnoses (false negatives).\n",
    "\n",
    "Matrix (a) delivers 6 false drops, by which we acquire 11 actual drop cases (true positives), but still miss 14 should-be diagnosed drops.\n",
    "\n",
    "If looking to avoid having clients drop at all costs, we go with Matrix (c), as it is the only option from this set of matrices that delivers us the max number of true positives, albeit at the cost of more unnecessary requests."
   ]
  },
  {
   "cell_type": "markdown",
   "metadata": {},
   "source": [
    "If we are to use the classifier based in Matrix (c), we would be performing detailing a total of 98 (25+73) total drop-cases. This would let us avoid 82 (180-98) wouldn't-have-been drop-cases. We would in effect be avoiding 45.5% of the diagnoses otherwise used by applying this classifier in the user-base."
   ]
  },
  {
   "cell_type": "code",
   "execution_count": null,
   "metadata": {},
   "outputs": [],
   "source": []
  }
 ],
 "metadata": {
  "kernelspec": {
   "display_name": "Python 3",
   "language": "python",
   "name": "python3"
  },
  "language_info": {
   "codemirror_mode": {
    "name": "ipython",
    "version": 3
   },
   "file_extension": ".py",
   "mimetype": "text/x-python",
   "name": "python",
   "nbconvert_exporter": "python",
   "pygments_lexer": "ipython3",
   "version": "3.7.3"
  }
 },
 "nbformat": 4,
 "nbformat_minor": 2
}
